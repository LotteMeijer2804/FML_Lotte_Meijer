{
 "cells": [
  {
   "attachments": {},
   "cell_type": "markdown",
   "metadata": {},
   "source": [
    "## Reviews, ratings and predictions\n",
    "__Lotte Meijer__\n",
    "1661695\n",
    "\n",
    "The 'Bag of words' model analyzes text by counting each individual word. The Naïve Bayes sorts the collections of words into categories by learning from the other collections of words."
   ]
  },
  {
   "cell_type": "code",
   "execution_count": 107,
   "metadata": {},
   "outputs": [],
   "source": [
    "import pandas as pd\n",
    "from sklearn.naive_bayes import MultinomialNB"
   ]
  },
  {
   "cell_type": "code",
   "execution_count": 108,
   "metadata": {},
   "outputs": [
    {
     "data": {
      "text/html": [
       "<div>\n",
       "<style scoped>\n",
       "    .dataframe tbody tr th:only-of-type {\n",
       "        vertical-align: middle;\n",
       "    }\n",
       "\n",
       "    .dataframe tbody tr th {\n",
       "        vertical-align: top;\n",
       "    }\n",
       "\n",
       "    .dataframe thead th {\n",
       "        text-align: right;\n",
       "    }\n",
       "</style>\n",
       "<table border=\"1\" class=\"dataframe\">\n",
       "  <thead>\n",
       "    <tr style=\"text-align: right;\">\n",
       "      <th></th>\n",
       "      <th>Unnamed: 0</th>\n",
       "      <th>Clothing ID</th>\n",
       "      <th>Age</th>\n",
       "      <th>Title</th>\n",
       "      <th>Review Text</th>\n",
       "      <th>Rating</th>\n",
       "      <th>Recommended IND</th>\n",
       "      <th>Positive Feedback Count</th>\n",
       "      <th>Division Name</th>\n",
       "      <th>Department Name</th>\n",
       "      <th>Class Name</th>\n",
       "    </tr>\n",
       "  </thead>\n",
       "  <tbody>\n",
       "    <tr>\n",
       "      <th>0</th>\n",
       "      <td>0</td>\n",
       "      <td>767</td>\n",
       "      <td>33</td>\n",
       "      <td>NaN</td>\n",
       "      <td>Absolutely wonderful - silky and sexy and comf...</td>\n",
       "      <td>4</td>\n",
       "      <td>1</td>\n",
       "      <td>0</td>\n",
       "      <td>Initmates</td>\n",
       "      <td>Intimate</td>\n",
       "      <td>Intimates</td>\n",
       "    </tr>\n",
       "    <tr>\n",
       "      <th>1</th>\n",
       "      <td>1</td>\n",
       "      <td>1080</td>\n",
       "      <td>34</td>\n",
       "      <td>NaN</td>\n",
       "      <td>Love this dress!  it's sooo pretty.  i happene...</td>\n",
       "      <td>5</td>\n",
       "      <td>1</td>\n",
       "      <td>4</td>\n",
       "      <td>General</td>\n",
       "      <td>Dresses</td>\n",
       "      <td>Dresses</td>\n",
       "    </tr>\n",
       "    <tr>\n",
       "      <th>2</th>\n",
       "      <td>2</td>\n",
       "      <td>1077</td>\n",
       "      <td>60</td>\n",
       "      <td>Some major design flaws</td>\n",
       "      <td>I had such high hopes for this dress and reall...</td>\n",
       "      <td>3</td>\n",
       "      <td>0</td>\n",
       "      <td>0</td>\n",
       "      <td>General</td>\n",
       "      <td>Dresses</td>\n",
       "      <td>Dresses</td>\n",
       "    </tr>\n",
       "    <tr>\n",
       "      <th>3</th>\n",
       "      <td>3</td>\n",
       "      <td>1049</td>\n",
       "      <td>50</td>\n",
       "      <td>My favorite buy!</td>\n",
       "      <td>I love, love, love this jumpsuit. it's fun, fl...</td>\n",
       "      <td>5</td>\n",
       "      <td>1</td>\n",
       "      <td>0</td>\n",
       "      <td>General Petite</td>\n",
       "      <td>Bottoms</td>\n",
       "      <td>Pants</td>\n",
       "    </tr>\n",
       "    <tr>\n",
       "      <th>4</th>\n",
       "      <td>4</td>\n",
       "      <td>847</td>\n",
       "      <td>47</td>\n",
       "      <td>Flattering shirt</td>\n",
       "      <td>This shirt is very flattering to all due to th...</td>\n",
       "      <td>5</td>\n",
       "      <td>1</td>\n",
       "      <td>6</td>\n",
       "      <td>General</td>\n",
       "      <td>Tops</td>\n",
       "      <td>Blouses</td>\n",
       "    </tr>\n",
       "  </tbody>\n",
       "</table>\n",
       "</div>"
      ],
      "text/plain": [
       "   Unnamed: 0  Clothing ID  Age                    Title  \\\n",
       "0           0          767   33                      NaN   \n",
       "1           1         1080   34                      NaN   \n",
       "2           2         1077   60  Some major design flaws   \n",
       "3           3         1049   50         My favorite buy!   \n",
       "4           4          847   47         Flattering shirt   \n",
       "\n",
       "                                         Review Text  Rating  Recommended IND  \\\n",
       "0  Absolutely wonderful - silky and sexy and comf...       4                1   \n",
       "1  Love this dress!  it's sooo pretty.  i happene...       5                1   \n",
       "2  I had such high hopes for this dress and reall...       3                0   \n",
       "3  I love, love, love this jumpsuit. it's fun, fl...       5                1   \n",
       "4  This shirt is very flattering to all due to th...       5                1   \n",
       "\n",
       "   Positive Feedback Count   Division Name Department Name Class Name  \n",
       "0                        0       Initmates        Intimate  Intimates  \n",
       "1                        4         General         Dresses    Dresses  \n",
       "2                        0         General         Dresses    Dresses  \n",
       "3                        0  General Petite         Bottoms      Pants  \n",
       "4                        6         General            Tops    Blouses  "
      ]
     },
     "execution_count": 108,
     "metadata": {},
     "output_type": "execute_result"
    }
   ],
   "source": [
    "df = pd.read_csv('Assignment text mining - data clothing reviews.csv')\n",
    "df.head()"
   ]
  },
  {
   "cell_type": "code",
   "execution_count": 109,
   "metadata": {},
   "outputs": [],
   "source": [
    "df_subset = df.loc[df['Class Name'].isin(['Dresses'])]#first I subset the ratings that are about a dress"
   ]
  },
  {
   "cell_type": "code",
   "execution_count": 110,
   "metadata": {},
   "outputs": [
    {
     "data": {
      "text/html": [
       "<div>\n",
       "<style scoped>\n",
       "    .dataframe tbody tr th:only-of-type {\n",
       "        vertical-align: middle;\n",
       "    }\n",
       "\n",
       "    .dataframe tbody tr th {\n",
       "        vertical-align: top;\n",
       "    }\n",
       "\n",
       "    .dataframe thead th {\n",
       "        text-align: right;\n",
       "    }\n",
       "</style>\n",
       "<table border=\"1\" class=\"dataframe\">\n",
       "  <thead>\n",
       "    <tr style=\"text-align: right;\">\n",
       "      <th></th>\n",
       "      <th>Review_Text</th>\n",
       "      <th>Rating</th>\n",
       "    </tr>\n",
       "  </thead>\n",
       "  <tbody>\n",
       "    <tr>\n",
       "      <th>1</th>\n",
       "      <td>Love this dress!  it's sooo pretty.  i happene...</td>\n",
       "      <td>5</td>\n",
       "    </tr>\n",
       "    <tr>\n",
       "      <th>2</th>\n",
       "      <td>I had such high hopes for this dress and reall...</td>\n",
       "      <td>3</td>\n",
       "    </tr>\n",
       "    <tr>\n",
       "      <th>5</th>\n",
       "      <td>I love tracy reese dresses, but this one is no...</td>\n",
       "      <td>2</td>\n",
       "    </tr>\n",
       "    <tr>\n",
       "      <th>8</th>\n",
       "      <td>I love this dress. i usually get an xs but it ...</td>\n",
       "      <td>5</td>\n",
       "    </tr>\n",
       "    <tr>\n",
       "      <th>9</th>\n",
       "      <td>I'm 5\"5' and 125 lbs. i ordered the s petite t...</td>\n",
       "      <td>5</td>\n",
       "    </tr>\n",
       "  </tbody>\n",
       "</table>\n",
       "</div>"
      ],
      "text/plain": [
       "                                         Review_Text  Rating\n",
       "1  Love this dress!  it's sooo pretty.  i happene...       5\n",
       "2  I had such high hopes for this dress and reall...       3\n",
       "5  I love tracy reese dresses, but this one is no...       2\n",
       "8  I love this dress. i usually get an xs but it ...       5\n",
       "9  I'm 5\"5' and 125 lbs. i ordered the s petite t...       5"
      ]
     },
     "execution_count": 110,
     "metadata": {},
     "output_type": "execute_result"
    }
   ],
   "source": [
    "df_subset = df_subset[['Review Text', 'Rating']]\n",
    "df_subset.rename(columns={\"Review Text\": \"Review_Text\"}, inplace=True) #rename the Review Text column to make it more conveniend\n",
    "df_subset.head()"
   ]
  },
  {
   "cell_type": "code",
   "execution_count": 111,
   "metadata": {},
   "outputs": [],
   "source": [
    "from sklearn.feature_extraction.text import CountVectorizer #The CountVectorizer object\n",
    "\n",
    "text = df_subset['Review_Text'].values.astype('U') #Taking the text from the df. We need to convert it to Unicode\n",
    "\n",
    "vect = CountVectorizer(stop_words='english') #Create the CV object, with English stop words\n",
    "vect = vect.fit(text) #We fit the model with the words from the review text\n",
    "vect\n",
    "feature_names = vect.get_feature_names() #Get the words from the vocabulary"
   ]
  },
  {
   "cell_type": "code",
   "execution_count": 112,
   "metadata": {},
   "outputs": [
    {
     "name": "stdout",
     "output_type": "stream",
     "text": [
      "  (2, 8)\t1\n",
      "  (4, 72)\t1\n",
      "  (4, 224)\t1\n",
      "  (18, 210)\t1\n",
      "  (19, 80)\t1\n",
      "  (19, 435)\t1\n",
      "  (19, 447)\t1\n",
      "  (20, 38)\t1\n",
      "  (21, 4)\t1\n",
      "  (21, 45)\t1\n",
      "  (22, 12)\t1\n",
      "  (22, 248)\t1\n",
      "  (25, 55)\t1\n",
      "  (26, 40)\t1\n",
      "  (28, 60)\t1\n",
      "  (28, 226)\t1\n",
      "  (28, 237)\t1\n",
      "  (29, 436)\t1\n",
      "  (31, 241)\t1\n",
      "  (32, 104)\t1\n",
      "  (32, 186)\t1\n",
      "  (32, 233)\t1\n",
      "  (32, 255)\t1\n",
      "  (33, 428)\t1\n",
      "  (35, 12)\t2\n",
      "  :\t:\n",
      "  (479, 461)\t1\n",
      "  (480, 484)\t1\n",
      "  (482, 471)\t1\n",
      "  (483, 355)\t1\n",
      "  (484, 12)\t1\n",
      "  (484, 225)\t1\n",
      "  (484, 348)\t1\n",
      "  (485, 447)\t1\n",
      "  (487, 258)\t1\n",
      "  (487, 447)\t1\n",
      "  (489, 211)\t1\n",
      "  (489, 304)\t1\n",
      "  (489, 316)\t1\n",
      "  (491, 104)\t1\n",
      "  (491, 243)\t1\n",
      "  (491, 422)\t1\n",
      "  (492, 84)\t1\n",
      "  (492, 96)\t1\n",
      "  (492, 186)\t1\n",
      "  (492, 233)\t1\n",
      "  (492, 242)\t1\n",
      "  (492, 248)\t1\n",
      "  (494, 86)\t1\n",
      "  (494, 485)\t1\n",
      "  (497, 37)\t1\n"
     ]
    }
   ],
   "source": [
    "docu_feat = vect.transform(text) #The transform method from the CountVectorizer object creates the matrix\n",
    "print(docu_feat[0:500,0:500]) #Let's print a little part of the matrix: the first 500 words & documents"
   ]
  },
  {
   "cell_type": "code",
   "execution_count": 113,
   "metadata": {},
   "outputs": [
    {
     "data": {
      "text/html": [
       "<div>\n",
       "<style scoped>\n",
       "    .dataframe tbody tr th:only-of-type {\n",
       "        vertical-align: middle;\n",
       "    }\n",
       "\n",
       "    .dataframe tbody tr th {\n",
       "        vertical-align: top;\n",
       "    }\n",
       "\n",
       "    .dataframe thead th {\n",
       "        text-align: right;\n",
       "    }\n",
       "</style>\n",
       "<table border=\"1\" class=\"dataframe\">\n",
       "  <thead>\n",
       "    <tr style=\"text-align: right;\">\n",
       "      <th></th>\n",
       "      <th>Review_Text</th>\n",
       "      <th>Rating</th>\n",
       "    </tr>\n",
       "  </thead>\n",
       "  <tbody>\n",
       "    <tr>\n",
       "      <th>1</th>\n",
       "      <td>Love this dress!  it's sooo pretty.  i happene...</td>\n",
       "      <td>positive</td>\n",
       "    </tr>\n",
       "    <tr>\n",
       "      <th>2</th>\n",
       "      <td>I had such high hopes for this dress and reall...</td>\n",
       "      <td>negative</td>\n",
       "    </tr>\n",
       "    <tr>\n",
       "      <th>5</th>\n",
       "      <td>I love tracy reese dresses, but this one is no...</td>\n",
       "      <td>negative</td>\n",
       "    </tr>\n",
       "    <tr>\n",
       "      <th>8</th>\n",
       "      <td>I love this dress. i usually get an xs but it ...</td>\n",
       "      <td>positive</td>\n",
       "    </tr>\n",
       "    <tr>\n",
       "      <th>9</th>\n",
       "      <td>I'm 5\"5' and 125 lbs. i ordered the s petite t...</td>\n",
       "      <td>positive</td>\n",
       "    </tr>\n",
       "  </tbody>\n",
       "</table>\n",
       "</div>"
      ],
      "text/plain": [
       "                                         Review_Text    Rating\n",
       "1  Love this dress!  it's sooo pretty.  i happene...  positive\n",
       "2  I had such high hopes for this dress and reall...  negative\n",
       "5  I love tracy reese dresses, but this one is no...  negative\n",
       "8  I love this dress. i usually get an xs but it ...  positive\n",
       "9  I'm 5\"5' and 125 lbs. i ordered the s petite t...  positive"
      ]
     },
     "execution_count": 113,
     "metadata": {},
     "output_type": "execute_result"
    }
   ],
   "source": [
    "from sklearn.model_selection import train_test_split #the function to split the data\n",
    "\n",
    "df_subset[\"Rating\"] = df_subset[\"Rating\"].astype('category')\n",
    "df_subset.dtypes\n",
    "\n",
    "cleanup = {\"Rating\":     {1: \"negative\", 2: \"negative\", 3: \"negative\", 4: \"positive\", 5: \"positive\",}} #categorize the ratings in positive and negative\n",
    "df_subset.replace(cleanup, inplace=True)\n",
    "df_subset.head()"
   ]
  },
  {
   "cell_type": "code",
   "execution_count": 114,
   "metadata": {},
   "outputs": [],
   "source": [
    "#Setting up the data and model\n",
    "X = docu_feat #selecting the variables to go into my X matrix\n",
    "y = df_subset['Rating'] #creating the y vector\n",
    "\n",
    "#Split the data. test_size = 0.3, so I'm splitting the data into 70% training data and 30% test data\n",
    "#I'm using the subscript _l to indicate it's linear regression (using the same variable names in next block)\n",
    "X_train, X_test, y_train, y_test = train_test_split(X, y, test_size=0.3)"
   ]
  },
  {
   "cell_type": "code",
   "execution_count": 115,
   "metadata": {},
   "outputs": [
    {
     "data": {
      "text/plain": [
       "0.8486286919831224"
      ]
     },
     "execution_count": 115,
     "metadata": {},
     "output_type": "execute_result"
    }
   ],
   "source": [
    "clf = MultinomialNB()\n",
    "clf = clf.fit(X_train, y_train) #this fits the Multinomial model with the train data\n",
    "clf.score(X_test, y_test) #calculate the fit on the test data"
   ]
  },
  {
   "cell_type": "code",
   "execution_count": 116,
   "metadata": {},
   "outputs": [
    {
     "data": {
      "text/plain": [
       "positive    4792\n",
       "negative    1527\n",
       "Name: Rating, dtype: int64"
      ]
     },
     "execution_count": 116,
     "metadata": {},
     "output_type": "execute_result"
    }
   ],
   "source": [
    "df_subset['Rating'].value_counts()"
   ]
  },
  {
   "cell_type": "code",
   "execution_count": 117,
   "metadata": {},
   "outputs": [
    {
     "data": {
      "text/plain": [
       "array([[ 284,  182],\n",
       "       [ 105, 1325]], dtype=int64)"
      ]
     },
     "execution_count": 117,
     "metadata": {},
     "output_type": "execute_result"
    }
   ],
   "source": [
    "from sklearn.metrics import confusion_matrix\n",
    "y_test_pred = clf.predict(X_test) #the predicted values\n",
    "cm = confusion_matrix(y_test, y_test_pred) #creates a \"confusion matrix\"\n",
    "cm"
   ]
  },
  {
   "cell_type": "code",
   "execution_count": 118,
   "metadata": {},
   "outputs": [
    {
     "name": "stdout",
     "output_type": "stream",
     "text": [
      "              precision    recall  f1-score   support\n",
      "\n",
      "    negative       0.73      0.61      0.66       466\n",
      "    positive       0.88      0.93      0.90      1430\n",
      "\n",
      "    accuracy                           0.85      1896\n",
      "   macro avg       0.80      0.77      0.78      1896\n",
      "weighted avg       0.84      0.85      0.84      1896\n",
      "\n"
     ]
    }
   ],
   "source": [
    "from sklearn.metrics import classification_report\n",
    "print(classification_report (y_test, y_test_pred))"
   ]
  },
  {
   "cell_type": "code",
   "execution_count": 119,
   "metadata": {},
   "outputs": [
    {
     "name": "stdout",
     "output_type": "stream",
     "text": [
      "0 This is the Rating:  positive\n",
      "0 This is the Review:  Love this dress!  it's sooo pretty.  i happened to find it in a store, and i'm glad i did bc i never would have ordered it online bc it's petite.  i bought a petite and am 5'8\".  i love the length on me- hits just a little below the knee.  would definitely be a true midi on someone who is truly petite.\n",
      "Negative: 8.598612681280654e-05, Positive 0.9999140138731744\n",
      "1 This is the Rating:  negative\n",
      "1 This is the Review:  I had such high hopes for this dress and really wanted it to work for me. i initially ordered the petite small (my usual size) but i found this to be outrageously small. so small in fact that i could not zip it up! i reordered it in petite medium, which was just ok. overall, the top half was comfortable and fit nicely, but the bottom half had a very tight under layer and several somewhat cheap (net) over layers. imo, a major design flaw was the net over layer sewn directly into the zipper - it c\n",
      "Negative: 0.9986787229834736, Positive 0.001321277016508468\n",
      "2 This is the Rating:  negative\n",
      "2 This is the Review:  I love tracy reese dresses, but this one is not for the very petite. i am just under 5 feet tall and usually wear a 0p in this brand. this dress was very pretty out of the package but its a lot of dress. the skirt is long and very full so it overwhelmed my small frame. not a stranger to alterations, shortening and narrowing the skirt would take away from the embellishment of the garment. i love the color and the idea of the style but it just did not work on me. i returned this dress.\n",
      "Negative: 0.6026262816700124, Positive 0.39737371832996976\n",
      "3 This is the Rating:  positive\n",
      "3 This is the Review:  I love this dress. i usually get an xs but it runs a little snug in bust so i ordered up a size. very flattering and feminine with the usual retailer flair for style.\n",
      "Negative: 0.0004881531814627212, Positive 0.999511846818531\n",
      "4 This is the Rating:  positive\n",
      "4 This is the Review:  I'm 5\"5' and 125 lbs. i ordered the s petite to make sure the length wasn't too long. i typically wear an xs regular in retailer dresses. if you're less busty (34b cup or smaller), a s petite will fit you perfectly (snug, but not tight). i love that i could dress it up for a party, or down for work. i love that the tulle is longer then the fabric underneath.\n",
      "Negative: 2.2797287768226737e-06, Positive 0.9999977202712225\n",
      "5 This is the Rating:  negative\n",
      "5 This is the Review:  Dress runs small esp where the zipper area runs. i ordered the sp which typically fits me and it was very tight! the material on the top looks and feels very cheap that even just pulling on it will cause it to rip the fabric. pretty disappointed as it was going to be my christmas dress this year! needless to say it will be going back.\n",
      "Negative: 0.999596517979363, Positive 0.0004034820206361617\n",
      "6 This is the Rating:  positive\n",
      "6 This is the Review:  This dress is perfection! so pretty and flattering.\n",
      "Negative: 0.020482916811571175, Positive 0.9795170831884273\n",
      "7 This is the Rating:  positive\n",
      "7 This is the Review:  More and more i find myself reliant on the reviews written by savvy shoppers before me and for the most past, they are right on in their estimation of the product. in the case of this dress-if it had not been for the reveiws-i doubt i would have even tried this. the dress is beautifully made, lined and reminiscent of the old retailer quality. it is lined in the solid periwinkle-colored fabric that matches the outer fabric print. tts and very form-fitting. falls just above the knee and does not rid\n",
      "Negative: 0.5918902617529214, Positive 0.40810973824707963\n",
      "8 This is the Rating:  negative\n",
      "8 This is the Review:  This is a nice choice for holiday gatherings. i like that the length grazes the knee so it is conservative enough for office related gatherings. the size small fit me well - i am usually a size 2/4 with a small bust. in my opinion it runs small and those with larger busts will definitely have to size up (but then perhaps the waist will be too big). the problem with this dress is the quality. the fabrics are terrible. the delicate netting type fabric on the top layer of skirt got stuck in the zip\n",
      "Negative: 0.9992459671995652, Positive 0.0007540328004153893\n",
      "9 This is the Rating:  positive\n",
      "9 This is the Review:  I love the look and feel of this tulle dress. i was looking for something different, but not over the top for new year's eve. i'm small chested and the top of this dress is form fitting for a flattering look. once i steamed the tulle, it was perfect! i ordered an xsp. length was perfect too.\n",
      "Negative: 5.392896243905798e-06, Positive 0.9999946071037482\n",
      "10 This is the Rating:  positive\n",
      "10 This is the Review:  I'm upset because for the price of the dress, i thought it was embroidered! no, that is a print on the fabric. i think i cried a little when i opened the box. it is still ver pretty. i would say it is true to size, it is a tad bit big on me, but i am very tiny, but i can still get away with it. the color is vibrant. the style is unique. skirt portion is pretty poofy. i keep going back and forth on it mainly because of the price, although the quality is definitely there. except i wish it were emb\n",
      "Negative: 0.10244544381422363, Positive 0.8975545561857791\n",
      "11 This is the Rating:  negative\n",
      "11 This is the Review:  First of all, this is not pullover styling. there is a side zipper. i wouldn't have purchased it if i knew there was a side zipper because i have a large bust and side zippers are next to impossible for me.\n",
      "\n",
      "second of all, the tulle feels and looks cheap and the slip has an awkward tight shape underneath.\n",
      "\n",
      "not at all what is looks like or is described as. sadly will be returning, but i'm sure i will find something to exchange it for!\n",
      "Negative: 0.9991667390799921, Positive 0.0008332609199936873\n",
      "12 This is the Rating:  negative\n",
      "12 This is the Review:  Cute little dress fits tts. it is a little high waisted. good length for my 5'9 height. i like the dress, i'm just not in love with it. i dont think it looks or feels cheap. it appears just as pictured.\n",
      "Negative: 0.15398820293022009, Positive 0.846011797069776\n",
      "13 This is the Rating:  negative\n",
      "13 This is the Review:  Love the color and style, but material snags easily\n",
      "Negative: 0.35267386341379003, Positive 0.6473261365862075\n",
      "14 This is the Rating:  positive\n",
      "14 This is the Review:  I got this in the petite length, size o, and it fit just right. i like that i didn't have to have it altered in the length; can wear with flats with plenty of clearance to the floor from the bottom hem. my only beef with the design is the height of the waist. i personally think that the elastic waistband looks cheap, and really needs to be concealed with a belt, yet because it sits so high, literally right under the bustline, it's a tricky one to pull off. i have a wide belt that sort of does th\n",
      "Negative: 0.11253216038705013, Positive 0.8874678396129728\n",
      "15 This is the Rating:  positive\n",
      "15 This is the Review:  This dress is simply beautiful and stunning. it is so figure flattering and i can't wait to wear it. size small worked for me, and since i'm tall it fell right to my ankle which is perfect for me. i could not be happier with the purchase and the keyhole in the back is a beautiful detail.\n",
      "Negative: 2.5144341293329178e-05, Positive 0.9999748556587102\n",
      "16 This is the Rating:  negative\n",
      "16 This is the Review:  I really wanted this to work. alas, it had a strange fit for me. the straps would not stay up, and it had a weird fit under the breast. it worked standing up, but the minute i sat down it fell off my shoulders. the fabric was beautiful! and i loved that it had pockets.\n",
      "Negative: 0.9985874762956948, Positive 0.001412523704305715\n",
      "17 This is the Rating:  positive\n",
      "17 This is the Review:  I passed up this dress so many times in the store and finally tried it on today because i wanted a casual dress while traveling in the cape. i was surprised how much cuter it is on than on hanger. i sized down to get a more fitting look and really made a difference for me in style. i was not a fan of the way it looked so loose on model. it looks really cute fitted and a bit sexy even. it is lined and very comfy and can be dressed up a but for work with a cardi. i believe i will get a lot of wear\n",
      "Negative: 6.407760544751144e-06, Positive 0.9999935922394436\n",
      "18 This is the Rating:  positive\n",
      "18 This is the Review:  I would have loved this dress if the bust and waist were just a little more fitted. i am 32c and the top was too big. fit perfectly on hips. the lace material means it cannot be easily altered, so i chose to return the dress. i would have definitely kept it if it were a better fit.\n",
      "Negative: 0.03565497168624557, Positive 0.9643450283137555\n",
      "19 This is the Rating:  positive\n",
      "19 This is the Review:  This dress is adorable - it's a perfect casual look for summer and the quality is nice with the lining (though still overpriced, in my opinion). the tie detail is somewhat adjustable, and i found my normal size s to fit fine (5'7, 128#). where this gets me is the fact that it's dry clean...totally doesn't make sense for a dress that is essentially a fancy tshirt for summer. i might bring it back for that alone, since i originally planned to wear it a lot. :(\n",
      "Negative: 0.00014995438623544225, Positive 0.9998500456137844\n"
     ]
    }
   ],
   "source": [
    "for i in range(0,20):\n",
    "    prob = clf.predict_proba(X[i])\n",
    "    print(i, \"This is the Rating: \", df_subset.Rating.iloc[i])\n",
    "    print(i, \"This is the Review: \", df_subset.Review_Text.iloc[i])\n",
    "    print(f\"Negative: {prob[0,0]}, Positive {prob[0,1]}\")"
   ]
  },
  {
   "cell_type": "markdown",
   "metadata": {},
   "source": [
    "## The predictions that are off\n",
    "\n",
    "10 This is the Rating:  positive\n",
    "10 This is the Review:  I'm upset because for the price of the dress, i thought it was embroidered! no, that is a print on the fabric. i think i cried a little when i opened the box. it is still ver pretty. i would say it is true to size, it is a tad bit big on me, but i am very tiny, but i can still get away with it. the color is vibrant. the style is unique. skirt portion is pretty poofy. i keep going back and forth on it mainly because of the price, although the quality is definitely there. except i wish it were emb\n",
    "Negative: 0.6878964008940213, Positive 0.31210359910598057\n",
    "\n",
    "*This prediction is probably off because it uses words like: upset, cried and away. It took me some time as well to figure out that this review uses weird ways to say that it was a good experience, so I don't blame the algorithm.*\n",
    "\n",
    "12 This is the Rating:  negative\n",
    "12 This is the Review:  Cute little dress fits tts. it is a little high waisted. good length for my 5'9 height. i like the dress, i'm just not in love with it. i dont think it looks or feels cheap. it appears just as pictured.\n",
    "Negative: 0.17361326828378917, Positive 0.8263867317162178\n",
    "\n",
    "*This review uses words like: cute, good, like, love*\n",
    "\n",
    "13 This is the Rating:  negative\n",
    "13 This is the Review:  Love the color and style, but material snags easily\n",
    "Negative: 0.296231362562037, Positive 0.7037686374379594\n",
    "\n",
    "*This review is very short but is talks about loving the color and style, I think the other words aren't very common in the other negative reviews so it doens't recognizes this as negative.*\n",
    "\n",
    "__The most important aspect of the off predictions is that the algorithm can't see combinations. It looks at words indivualy, and therefore loses context.__"
   ]
  },
  {
   "cell_type": "code",
   "execution_count": null,
   "metadata": {},
   "outputs": [],
   "source": []
  }
 ],
 "metadata": {
  "kernelspec": {
   "display_name": "Python 3",
   "language": "python",
   "name": "python3"
  },
  "language_info": {
   "codemirror_mode": {
    "name": "ipython",
    "version": 3
   },
   "file_extension": ".py",
   "mimetype": "text/x-python",
   "name": "python",
   "nbconvert_exporter": "python",
   "pygments_lexer": "ipython3",
   "version": "3.7.3"
  }
 },
 "nbformat": 4,
 "nbformat_minor": 2
}
